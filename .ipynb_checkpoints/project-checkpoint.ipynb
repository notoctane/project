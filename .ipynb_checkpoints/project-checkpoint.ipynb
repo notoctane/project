{
 "cells": [
  {
   "cell_type": "code",
   "execution_count": 2,
   "id": "96d99678-0a33-4a63-b033-05580f09038f",
   "metadata": {},
   "outputs": [],
   "source": [
    "import random as rd\n",
    "import numpy as np\n",
    "import matplotlib as plt \n",
    "import time\n",
    "import pandas as pd\n",
    "import math"
   ]
  },
  {
   "cell_type": "code",
   "execution_count": 42,
   "id": "0cdec5a3-c05d-4f8a-b53b-385b61dd8877",
   "metadata": {},
   "outputs": [],
   "source": [
    "class resolver:\n",
    "    def __init__(self, teammates, n, k):\n",
    "        self.team = teammates # кол-во людей с тобой в сговоре \n",
    "        self.n = n # кол-во участников \n",
    "        self.n_without_team = n - 1 - self.team # обычные люди\n",
    "        self.k = k # коэффициент деления\n",
    "        self.sum_values=[]\n",
    "    def equation(self,team_values):\n",
    "        return np.sum((np.append(self.value,team_values))/(self.n*self.k))\n",
    "    def exact_numbers(self, your_min_number, your_max_number):\n",
    "       return [num for num in range(your_min_number,your_max_number+1) if round(self.equation(num),0) == num]\n",
    "    # def near_numbers(self, your_max_number, values):\n",
    "    #     for num in range(1,your_max_number+1):\n",
    "    #         if round(self.equation(num),0) \n",
    "    \n",
    "    def distance(your_num, win_num):\n",
    "        return your_num - win_num\n",
    "    def best_number(self, strategy='strategy1', iterations=100, your_min_number=1, your_max_number=35):\n",
    "        result = []\n",
    "        match strategy:\n",
    "            case 'all_random':\n",
    "                for iteration in range (iterations):\n",
    "                    self.value = np.array([rd.randint(1, 100) for _ in range(self.n_without_team)])\n",
    "                    result += self.exact_numbers(your_min_number,your_max_number)\n",
    "            case 'strategy1':\n",
    "                for iteration in range (iterations):\n",
    "                    n = [self.n_without_team // 2, self.n_without_team-self.n_without_team // 2]\n",
    "                    self.value = np.array([rd.randint(1, 25) for _ in range(n[1])] +\\\n",
    "                                           [rd.randint(75, 100) for _ in range(n[0])]) \n",
    "                    self.sum_values.append(np.sum(self.value)) # Значение без учета тебя\n",
    "                    result += self.exact_numbers(your_min_number,your_max_number)\n",
    "            case 'strategy2':\n",
    "                for iteration in range (iterations):\n",
    "                    thoughtless_n = rd.randint(1,3)\n",
    "                    n = self.n_without_team - thoughtless_n \n",
    "                    self.value = np.array([rd.randint(1, 12) for _ in range(n)] +\\\n",
    "                                           [rd.randint(25, 100) for _ in range(thoughtless_n)])\n",
    "                    self.sum_values.append(np.sum(self.value)) # Значение без учета тебя\n",
    "                    result += self.exact_numbers(your_min_number,your_max_number)\n",
    "            case 'strategy3':\n",
    "                for iteration in range (iterations):\n",
    "                    sub_n = rd.randint(0,12)\n",
    "                    n = [sub_n, self.n_without_team-sub_n]\n",
    "                    self.value = np.array([rd.randint(1, 25) for _ in range(n[1])] +\\\n",
    "                                           [rd.randint(75, 100) for _ in range(n[0])])\n",
    "                    self.sum_values.append(np.sum(self.value)) # Значение без учета тебя\n",
    "                    result += self.exact_numbers(your_min_number,your_max_number)\n",
    "            case 'strategy4':\n",
    "                for iteration in range(iterations):\n",
    "                    self.value = np.array([rd.randint(3, 15) for _ in range(self.n_without_team)])\n",
    "                    self.sum_values.append(np.sum(self.value)) # Значение без учета тебя\n",
    "                    result += self.exact_numbers(your_min_number,your_max_number)\n",
    "            case 'all_possible_values':\n",
    "                for self.value in range (self.n_without_team, self.n_without_team*100):\n",
    "                    result += self.exact_numbers(your_min_number,your_max_number)\n",
    "                    self.sum_values.append(self.value) # Значение без учета тебя\n",
    "                iterations = self.n\n",
    "            case _:\n",
    "                return 'Unknown strategy'\n",
    "\n",
    "#==========================  Реальная вероятность, однако с ней не очень приятно работать  ==========================\n",
    "        # return {unique_num: (result.count(unique_num))/((self.n-1+your_max_number-your_min_number)*100)\\\n",
    "        #         for unique_num in set(result)}\n",
    "#============================================  Вывод уникальных значений  ============================================\n",
    "        #return {unique_num: (result.count(unique_num)) for unique_num in set(result)}\n",
    "\n",
    "            # Программа подбирает значения с которыми вы МОЖЕТЕ выиграть с условием того,\n",
    "                # что вы предполагаете как поведут себя люди в данной ситуации\n",
    "        \n",
    "#====================================  Вывод вероятности выбора значения из интервала ===================================\n",
    "        return {unique_num: (result.count(unique_num)/len(result)) for unique_num in set(result)}\n"
   ]
  },
  {
   "cell_type": "code",
   "execution_count": 43,
   "id": "07c06fe8-cb92-4648-9a32-699cd74ab306",
   "metadata": {},
   "outputs": [
    {
     "data": {
      "text/plain": [
       "{24: 0.3883495145631068,\n",
       " 25: 0.08737864077669903,\n",
       " 22: 0.08737864077669903,\n",
       " 23: 0.4368932038834951}"
      ]
     },
     "execution_count": 43,
     "metadata": {},
     "output_type": "execute_result"
    }
   ],
   "source": [
    "test1 = resolver(0,20,2)\n",
    "s = test1.best_number(strategy='strategy1', iterations=100, your_min_number = 1, your_max_number=40)\n",
    "s"
   ]
  },
  {
   "cell_type": "code",
   "execution_count": 5,
   "id": "a6526974-a482-46e2-80b5-614057712baa",
   "metadata": {},
   "outputs": [
    {
     "data": {
      "text/plain": [
       "{3: 0.009615384615384616,\n",
       " 4: 0.15384615384615385,\n",
       " 5: 0.27884615384615385,\n",
       " 6: 0.19230769230769232,\n",
       " 7: 0.15384615384615385,\n",
       " 8: 0.1346153846153846,\n",
       " 9: 0.057692307692307696,\n",
       " 10: 0.009615384615384616,\n",
       " 11: 0.009615384615384616}"
      ]
     },
     "execution_count": 5,
     "metadata": {},
     "output_type": "execute_result"
    }
   ],
   "source": [
    "test1 = resolver(0,20,2)\n",
    "s = test1.best_number(strategy='strategy2', iterations=100, your_min_number = 1, your_max_number=40)\n",
    "s"
   ]
  },
  {
   "cell_type": "code",
   "execution_count": 6,
   "id": "8097a183-3ee1-4549-a59f-5290e7c7219b",
   "metadata": {},
   "outputs": [
    {
     "data": {
      "text/plain": [
       "{5: 0.00980392156862745,\n",
       " 6: 0.00980392156862745,\n",
       " 7: 0.049019607843137254,\n",
       " 8: 0.0196078431372549,\n",
       " 9: 0.058823529411764705,\n",
       " 10: 0.0196078431372549,\n",
       " 11: 0.029411764705882353,\n",
       " 12: 0.0392156862745098,\n",
       " 13: 0.0392156862745098,\n",
       " 14: 0.0196078431372549,\n",
       " 15: 0.0196078431372549,\n",
       " 16: 0.049019607843137254,\n",
       " 17: 0.00980392156862745,\n",
       " 18: 0.049019607843137254,\n",
       " 19: 0.049019607843137254,\n",
       " 20: 0.06862745098039216,\n",
       " 21: 0.06862745098039216,\n",
       " 22: 0.029411764705882353,\n",
       " 23: 0.0392156862745098,\n",
       " 24: 0.0392156862745098,\n",
       " 25: 0.0784313725490196,\n",
       " 26: 0.049019607843137254,\n",
       " 27: 0.0196078431372549,\n",
       " 28: 0.049019607843137254,\n",
       " 29: 0.029411764705882353,\n",
       " 30: 0.058823529411764705}"
      ]
     },
     "execution_count": 6,
     "metadata": {},
     "output_type": "execute_result"
    }
   ],
   "source": [
    "test1 = resolver(0,20,2)\n",
    "s = test1.best_number(strategy='strategy3', iterations=100, your_min_number = 1, your_max_number=40)\n",
    "s"
   ]
  },
  {
   "cell_type": "code",
   "execution_count": 7,
   "id": "bf89cb98-8837-4b7f-b53d-428e5a10e479",
   "metadata": {},
   "outputs": [
    {
     "data": {
      "text/plain": [
       "{3: 0.019230769230769232, 4: 0.6153846153846154, 5: 0.36538461538461536}"
      ]
     },
     "execution_count": 7,
     "metadata": {},
     "output_type": "execute_result"
    }
   ],
   "source": [
    "test1 = resolver(0,20,2)\n",
    "s = test1.best_number(strategy='strategy4', iterations=100, your_min_number = 1, your_max_number=40)\n",
    "s"
   ]
  },
  {
   "cell_type": "code",
   "execution_count": 8,
   "id": "893b32c7-fba4-4e72-bd93-a8391bf59aea",
   "metadata": {},
   "outputs": [
    {
     "data": {
      "text/plain": [
       "{17: 0.009615384615384616,\n",
       " 18: 0.009615384615384616,\n",
       " 19: 0.04807692307692308,\n",
       " 20: 0.0673076923076923,\n",
       " 21: 0.08653846153846154,\n",
       " 22: 0.09615384615384616,\n",
       " 23: 0.0673076923076923,\n",
       " 24: 0.125,\n",
       " 25: 0.0673076923076923,\n",
       " 26: 0.14423076923076922,\n",
       " 27: 0.10576923076923077,\n",
       " 28: 0.04807692307692308,\n",
       " 29: 0.07692307692307693,\n",
       " 30: 0.04807692307692308}"
      ]
     },
     "execution_count": 8,
     "metadata": {},
     "output_type": "execute_result"
    }
   ],
   "source": [
    "test1 = resolver(0,20,2)\n",
    "s = test1.best_number(strategy='all_random', iterations=100, your_min_number = 1, your_max_number=40)\n",
    "s"
   ]
  },
  {
   "cell_type": "code",
   "execution_count": 9,
   "id": "8a2220f6-749c-4430-b3fd-c3d28eac2851",
   "metadata": {},
   "outputs": [
    {
     "data": {
      "text/plain": [
       "{1: 0.020228215767634856,\n",
       " 2: 0.021265560165975105,\n",
       " 3: 0.020228215767634856,\n",
       " 4: 0.021265560165975105,\n",
       " 5: 0.020228215767634856,\n",
       " 6: 0.021265560165975105,\n",
       " 7: 0.020228215767634856,\n",
       " 8: 0.021265560165975105,\n",
       " 9: 0.020228215767634856,\n",
       " 10: 0.021265560165975105,\n",
       " 11: 0.020228215767634856,\n",
       " 12: 0.021265560165975105,\n",
       " 13: 0.020228215767634856,\n",
       " 14: 0.021265560165975105,\n",
       " 15: 0.020228215767634856,\n",
       " 16: 0.021265560165975105,\n",
       " 17: 0.020228215767634856,\n",
       " 18: 0.021265560165975105,\n",
       " 19: 0.020228215767634856,\n",
       " 20: 0.021265560165975105,\n",
       " 21: 0.020228215767634856,\n",
       " 22: 0.021265560165975105,\n",
       " 23: 0.020228215767634856,\n",
       " 24: 0.021265560165975105,\n",
       " 25: 0.020228215767634856,\n",
       " 26: 0.021265560165975105,\n",
       " 27: 0.020228215767634856,\n",
       " 28: 0.021265560165975105,\n",
       " 29: 0.020228215767634856,\n",
       " 30: 0.021265560165975105,\n",
       " 31: 0.020228215767634856,\n",
       " 32: 0.021265560165975105,\n",
       " 33: 0.020228215767634856,\n",
       " 34: 0.021265560165975105,\n",
       " 35: 0.020228215767634856,\n",
       " 36: 0.021265560165975105,\n",
       " 37: 0.020228215767634856,\n",
       " 38: 0.021265560165975105,\n",
       " 39: 0.020228215767634856,\n",
       " 40: 0.021265560165975105,\n",
       " 41: 0.020228215767634856,\n",
       " 42: 0.021265560165975105,\n",
       " 43: 0.020228215767634856,\n",
       " 44: 0.021265560165975105,\n",
       " 45: 0.020228215767634856,\n",
       " 46: 0.021265560165975105,\n",
       " 47: 0.020228215767634856,\n",
       " 48: 0.021265560165975105,\n",
       " 49: 0.004149377593360996}"
      ]
     },
     "execution_count": 9,
     "metadata": {},
     "output_type": "execute_result"
    }
   ],
   "source": [
    "test1 = resolver(0,20,2)\n",
    "s = test1.best_number(strategy='all_possible_values', iterations=100, your_min_number = 1, your_max_number=50)\n",
    "s"
   ]
  },
  {
   "cell_type": "code",
   "execution_count": 10,
   "id": "f45a6ac7-9a56-4ff1-9ed2-76d4e9b0e168",
   "metadata": {},
   "outputs": [
    {
     "data": {
      "text/plain": [
       "1881"
      ]
     },
     "execution_count": 10,
     "metadata": {},
     "output_type": "execute_result"
    }
   ],
   "source": [
    "len(test1.sum_values)"
   ]
  },
  {
   "cell_type": "markdown",
   "id": "b55ec0e6-7e86-47d0-a09e-0cdc6614d32d",
   "metadata": {},
   "source": [
    "# Проблемы данного кода:\n",
    "\n",
    "1)  В этом коде не учтен вариант, когда мы выигрываем благодаря минимальному расстоянию, в случае с очень маленьким количеством людей это может повлиять"
   ]
  },
  {
   "cell_type": "code",
   "execution_count": 54,
   "id": "c9d1119b-bb38-4c79-b19c-f1eca14bf92e",
   "metadata": {},
   "outputs": [
    {
     "ename": "SyntaxError",
     "evalue": "unexpected character after line continuation character (2454082521.py, line 34)",
     "output_type": "error",
     "traceback": [
      "  \u001b[36mCell\u001b[39m\u001b[36m \u001b[39m\u001b[32mIn[54]\u001b[39m\u001b[32m, line 34\u001b[39m\n\u001b[31m    \u001b[39m\u001b[31m\\ for iteration in range(iterations) if round(self.equation(your_num)[iteration],0) == your_num]\u001b[39m\n                                                                           ^\n\u001b[31mSyntaxError\u001b[39m\u001b[31m:\u001b[39m unexpected character after line continuation character\n"
     ]
    }
   ],
   "source": [
    "class resolver: #Решение если мы хотим сохранить все исх данные\n",
    "    def __init__(self, teammates, n, k):\n",
    "        self.team = teammates # кол-во людей с тобой в сговоре \n",
    "        self.n = n # кол-во участников \n",
    "        self.n_without_team = n - 1 - self.team # обычные люди\n",
    "        self.k = k # коэффициент деления\n",
    "    def equation(self,team_values):\n",
    "        return [np.sum(value+team_values)/(self.n*self.k) for value in self.values]\n",
    "    def best_number_only_for_you(self, strategy='all_random', iterations=100, your_max_number=25):\n",
    "        match strategy:\n",
    "            case 'all_random':\n",
    "                self.values = np.array([[rd.randint(1, 100) for _ in range(self.n_without_team)]\\\n",
    "                                        for _ in range(iterations)])\n",
    "            case 'strategy1':\n",
    "                n = [self.n_without_team // 2, self.n_without_team-self.n_without_team // 2]\n",
    "                self.values = np.array([[rd.randint(1, 25) for _ in range(n[1])] +\\\n",
    "                                       [rd.randint(75, 100) for _ in range(n[0])] for _ in range(iterations)])\n",
    "            case 'strategy2':\n",
    "                thoughtless_n = rd.randint(1,3)\n",
    "                n = self.n_without_team - thoughtless_n \n",
    "                self.values = np.array([[rd.randint(1, 12) for _ in range(n)] +\\\n",
    "                                       [rd.randint(25, 100) for _ in range(thoughtless_n)] for _ in range(iterations)])\n",
    "            case 'strategy3':\n",
    "                sub_n = rd.randint(0,12)\n",
    "                n = [sub_n, self.n_without_team-sub_n]\n",
    "                self.values = np.array([[rd.randint(1, 25) for _ in range(n[1])] +\\\n",
    "                                       [rd.randint(75, 100) for _ in range(n[0])] for _ in range(iterations)])\n",
    "            case 'strategy4':\n",
    "                self.values = np.array([[rd.randint(2, 10) for _ in range(self.n_without_team)]\\\n",
    "                                        for _ in range(iterations)])\n",
    "            case _:\n",
    "                return 'Unknown strategy'\n",
    "        return [your_num for your_num in range(1, your_max_number+1)\\\n",
    "                            for iteration in range(iterations) if round(self.equation(your_num)[iteration],0) == your_num]"
   ]
  },
  {
   "cell_type": "code",
   "execution_count": 158,
   "id": "2f006325-b696-4557-a198-f23ffec6e5a7",
   "metadata": {},
   "outputs": [],
   "source": [
    "class resolver:\n",
    "    def __init__(self, teammates, n, k):\n",
    "        self.team = teammates # кол-во людей с тобой в сговоре \n",
    "        self.n = n # кол-во участников \n",
    "        self.n_without_team = n - 1 - self.team # обычные люди\n",
    "        self.k = k # коэффициент деления\n",
    "        self.sum_values=[]\n",
    "    def equation(self,team_values):\n",
    "        return np.sum((np.append(self.value,team_values))/(self.n*self.k))\n",
    "    def exact_numbers(self, your_min_number, your_max_number):\n",
    "       return [num for num in range(your_min_number, your_max_number+1) if round(self.equation(num),0) == num]\n",
    "    def near_numbers(self, your_min_number, your_max_number):\n",
    "        your_win_nums = []\n",
    "        for value in range(your_min_number,your_max_number+1):\n",
    "            win_num = round(self.equation(value),0)\n",
    "            if min(abs(self.value-win_num))>=abs(value-win_num):\n",
    "                your_win_nums.append(value)\n",
    "        return your_win_nums\n",
    "    def best_number(self, strategy='strategy1', iterations=100, your_min_number=1, your_max_number=35):\n",
    "        result = []\n",
    "        result_1 = []\n",
    "        match strategy:\n",
    "            case 'all_random':\n",
    "                for iteration in range (iterations):\n",
    "                    self.value = np.array([rd.randint(1, 100) for _ in range(self.n_without_team)])\n",
    "                    #result += self.exact_numbers(your_min_number,your_max_number)\n",
    "            case 'strategy1':\n",
    "                for iteration in range (iterations):\n",
    "                    n = [self.n_without_team // 2, self.n_without_team-self.n_without_team // 2]\n",
    "                    self.value = np.array([rd.randint(1, 31) for _ in range(n[1])] +\\\n",
    "                                           [rd.randint(69, 100) for _ in range(n[0])]) \n",
    "                    self.sum_values.append(np.sum(self.value)) # Значение без учета тебя\n",
    "                    result += self.exact_numbers(your_min_number,your_max_number)\n",
    "                    result_1 += self.near_numbers(your_min_number, your_max_number)\n",
    "            case 'strategy2':\n",
    "                for iteration in range (iterations):\n",
    "                    thoughtless_n = rd.randint(1,3)\n",
    "                    n = self.n_without_team - thoughtless_n \n",
    "                    self.value = np.array([rd.randint(1, 15) for _ in range(n)] +\\\n",
    "                                           [rd.randint(31, 100) for _ in range(thoughtless_n)])\n",
    "                    self.sum_values.append(np.sum(self.value)) # Значение без учета тебя\n",
    "                    result += self.exact_numbers(your_min_number,your_max_number)\n",
    "                    result_1 += self.near_numbers(your_min_number, your_max_number)\n",
    "            case 'strategy3':\n",
    "                for iteration in range (iterations):\n",
    "                    sub_n = rd.randint(0,12)\n",
    "                    n = [sub_n, self.n_without_team-sub_n]\n",
    "                    self.value = np.array([rd.randint(1, 25) for _ in range(n[1])] +\\\n",
    "                                           [rd.randint(75, 100) for _ in range(n[0])])\n",
    "                    self.sum_values.append(np.sum(self.value)) # Значение без учета тебя\n",
    "                    result += self.exact_numbers(your_min_number,your_max_number)\n",
    "                    result_1 += self.near_numbers(your_min_number, your_max_number)\n",
    "            case 'strategy4':\n",
    "                for iteration in range(iterations):\n",
    "                    self.value = np.array([rd.randint(3, 15) for _ in range(self.n_without_team)])\n",
    "                    self.sum_values.append(np.sum(self.value)) # Значение без учета тебя\n",
    "                    result += self.exact_numbers(your_min_number,your_max_number)\n",
    "                    result_1 += self.near_numbers(your_min_number, your_max_number)\n",
    "            case 'all_possible_values':\n",
    "                for self.value in range (self.n_without_team, self.n_without_team*100):\n",
    "                    result += self.exact_numbers(your_min_number,your_max_number)\n",
    "                    self.sum_values.append(self.value) # Значение без учета тебя\n",
    "                iterations = self.n\n",
    "            case _:\n",
    "                return 'Unknown strategy'\n",
    "\n",
    "#==========================  Реальная вероятность, однако с ней не очень приятно работать  ==========================\n",
    "        # return {unique_num: (result.count(unique_num))/((self.n-1+your_max_number-your_min_number)*100)\\\n",
    "        #         for unique_num in set(result)}\n",
    "#======================================== Вывод уникальных значений и их кол-во ========================================\n",
    "        # return {unique_num: (result_1.count(unique_num)) for unique_num in set(result_1)}\n",
    "\n",
    "            # Программа подбирает значения с которыми вы МОЖЕТЕ выиграть с условием того,\n",
    "                # что вы предполагаете как поведут себя люди в данной ситуации\n",
    "        \n",
    "#====================================  Вывод вероятности выбора значения из интервала ===================================\n",
    "        return {unique_num: (result_1.count(unique_num)/len(result_1)) for unique_num in set(result_1)},\\\n",
    "        {unique_num: (result.count(unique_num)/len(result)) for unique_num in set(result)}\n",
    "        #return len(result_1), len(result)"
   ]
  },
  {
   "cell_type": "code",
   "execution_count": 159,
   "id": "69f24e59-57e9-4c3a-b3ae-1f6541721c4c",
   "metadata": {},
   "outputs": [
    {
     "data": {
      "text/plain": [
       "({3: 0.01098901098901099,\n",
       "  4: 0.09340659340659341,\n",
       "  5: 0.14835164835164835,\n",
       "  6: 0.21428571428571427,\n",
       "  7: 0.16483516483516483,\n",
       "  8: 0.17582417582417584,\n",
       "  9: 0.10989010989010989,\n",
       "  10: 0.04395604395604396,\n",
       "  11: 0.03296703296703297,\n",
       "  12: 0.005494505494505495},\n",
       " {4: 0.09803921568627451,\n",
       "  5: 0.19607843137254902,\n",
       "  6: 0.24509803921568626,\n",
       "  7: 0.14705882352941177,\n",
       "  8: 0.17647058823529413,\n",
       "  9: 0.09803921568627451,\n",
       "  10: 0.0392156862745098})"
      ]
     },
     "execution_count": 159,
     "metadata": {},
     "output_type": "execute_result"
    }
   ],
   "source": [
    "test1 = resolver(0,20,2)\n",
    "s = test1.best_number(strategy='strategy2', iterations=100, your_min_number = 1, your_max_number=40)\n",
    "s"
   ]
  },
  {
   "cell_type": "code",
   "execution_count": 15,
   "id": "8b97294d-f2b2-4281-a185-9fc0258ddf50",
   "metadata": {},
   "outputs": [
    {
     "data": {
      "text/plain": [
       "[3, 4]"
      ]
     },
     "execution_count": 15,
     "metadata": {},
     "output_type": "execute_result"
    }
   ],
   "source": [
    "a = np.array([1,2,4,12,12,50])\n",
    "b = 20\n",
    "my_value = 14\n",
    "a = abs(a-b)\n",
    "res = [i for i in range(len(a)) if a[i]==min(a)]\n",
    "res"
   ]
  },
  {
   "cell_type": "code",
   "execution_count": 22,
   "id": "566544c3-a68c-486e-a8be-d94167d7cb35",
   "metadata": {},
   "outputs": [
    {
     "data": {
      "text/plain": [
       "6"
      ]
     },
     "execution_count": 22,
     "metadata": {},
     "output_type": "execute_result"
    }
   ],
   "source": [
    "my_value = abs(my_value-b)\n",
    "if my_value<=min(a):\n",
    "    res = my_value\n",
    "res"
   ]
  },
  {
   "cell_type": "code",
   "execution_count": null,
   "id": "5f68e77b-5616-4d3b-b076-f263d440ff57",
   "metadata": {},
   "outputs": [],
   "source": []
  }
 ],
 "metadata": {
  "kernelspec": {
   "display_name": "Python 3 (ipykernel)",
   "language": "python",
   "name": "python3"
  },
  "language_info": {
   "codemirror_mode": {
    "name": "ipython",
    "version": 3
   },
   "file_extension": ".py",
   "mimetype": "text/x-python",
   "name": "python",
   "nbconvert_exporter": "python",
   "pygments_lexer": "ipython3",
   "version": "3.12.10"
  }
 },
 "nbformat": 4,
 "nbformat_minor": 5
}
