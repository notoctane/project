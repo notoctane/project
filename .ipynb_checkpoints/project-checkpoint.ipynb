{
 "cells": [
  {
   "cell_type": "code",
   "execution_count": 62,
   "id": "96d99678-0a33-4a63-b033-05580f09038f",
   "metadata": {},
   "outputs": [],
   "source": [
    "import random as rd\n",
    "import numpy as np\n",
    "import matplotlib as plt\n",
    "import time"
   ]
  },
  {
   "cell_type": "code",
   "execution_count": 177,
   "id": "cac7e7ae-1486-4044-83d6-b642f9d431f7",
   "metadata": {},
   "outputs": [],
   "source": [
    "class resolver:\n",
    "    def __init__(self, teammates, n, k):\n",
    "        self.team = teammates # кол-во людей с тобой в сговоре\n",
    "        self.n = n # кол-во участников \n",
    "        self.n_without_team = n - 1 - self.team # обычные люди\n",
    "        self.k = k # коэффициент деления\n",
    "    def all_random_values(self):\n",
    "        self.values = np.array([rd.randint(1, 100) for _ in range(self.n_without_team)])\n",
    "    def strat1_random_values(self):\n",
    "        n = [self.n_without_team // 2, self.n_without_team-self.n_without_team // 2]\n",
    "        self.values = np.array([rd.randint(1, 25) for _ in range(n[1])]+ [rd.randint(75, 100) for _ in range(n[0])])\n",
    "    def strat2_random_values(self):\n",
    "        thoughtless_n = rd.randint(1,5)\n",
    "        n = self.n_without_team - thoughtless_n \n",
    "        self.values = np.array([rd.randint(1, 12) for _ in range(n)] + [rd.randint(25, 100) for _ in range(thoughtless_n)])\n",
    "    def strat3_random_values(self):\n",
    "        sub_n = rd.randint(0,12)\n",
    "        n = [sub_n, self.n_without_team-sub_n]\n",
    "        self.values = np.array([rd.randint(1, 25) for _ in range(n[1])]+ [rd.randint(75, 100) for _ in range(n[0])])\n",
    "    def strat4_random_values(self):\n",
    "        self.values = np.array([rd.randint(1, 10) for _ in range(self.n_without_team)])\n",
    "    def equation(self,team_values):\n",
    "        return np.sum(self.values+team_values)/(self.n*self.k)\n",
    "    #def best_number_only_for_you(self):"
   ]
  },
  {
   "cell_type": "code",
   "execution_count": 178,
   "id": "5d3fed02-6864-4bc9-a81c-3f6863b1fb75",
   "metadata": {},
   "outputs": [
    {
     "name": "stdout",
     "output_type": "stream",
     "text": [
      "31.58\n",
      "30.04\n",
      "9.62\n",
      "20.42\n",
      "8.18\n"
     ]
    }
   ],
   "source": [
    "# Первое тестирование\n",
    "test1 = resolver(0,25,2)\n",
    "test1.all_random_values()\n",
    "print(test1.equation(12))\n",
    "test1.strat1_random_values()\n",
    "print(test1.equation(12))\n",
    "test1.strat2_random_values()\n",
    "print(test1.equation(12))\n",
    "test1.strat3_random_values()\n",
    "print(test1.equation(12))\n",
    "test1.strat4_random_values()\n",
    "print(test1.equation(12))"
   ]
  },
  {
   "cell_type": "code",
   "execution_count": 196,
   "id": "92bc0853-3967-4f8b-acd7-b5a89a812a99",
   "metadata": {},
   "outputs": [],
   "source": [
    "H1 = [] # результаты тестирования первой стратегии (полностью рандом)\n",
    "H2 = [] # результаты тестирования 1 гипотезы\n",
    "H3 = [] # результаты тестирования 2 гипотезы\n",
    "H4 = [] # результаты тестирования 3 гипотезы\n",
    "H5 = [] # результаты тестирования 4 гипотезы\n",
    "for j in range(25):\n",
    "    for i in range(40):\n",
    "        test1.all_random_values()\n",
    "        H1.append(test1.equation(j))\n",
    "        test1.strat1_random_values()\n",
    "        H2.append(test1.equation(j))\n",
    "        test1.strat2_random_values()\n",
    "        H3.append(test1.equation(j))\n",
    "        test1.strat3_random_values()\n",
    "        H4.append(test1.equation(j))\n",
    "        test1.strat4_random_values()\n",
    "        H5.append(test1.equation(j))\n",
    "H1=np.array(H1).reshape(25,40)\n",
    "H2=np.array(H2).reshape(25,40)\n",
    "H3=np.array(H3).reshape(25,40)\n",
    "H4=np.array(H4).reshape(25,40)\n",
    "H5=np.array(H5).reshape(25,40)\n",
    "H1 = [j for i in range(25) for j in range(40) if int(H1[i][j]) == j]\n",
    "H2 = [j for i in range(25) for j in range(40) if int(H2[i][j]) == j]\n",
    "H3 = [j for i in range(25) for j in range(40) if int(H3[i][j]) == j]\n",
    "H4 = [j for i in range(25) for j in range(40) if int(H4[i][j]) == j]\n",
    "H5 = [j for i in range(25) for j in range(40) if int(H5[i][j]) == j]"
   ]
  },
  {
   "cell_type": "code",
   "execution_count": 203,
   "id": "5648957e-d077-4a3b-a514-3bbfc2a542b1",
   "metadata": {},
   "outputs": [
    {
     "name": "stdout",
     "output_type": "stream",
     "text": [
      "Кол-во выигрышных чисел 15 \n",
      "Вероятное выигрышное число при гипотезе 1:  26 \n",
      "Среднее выигрышное число: 28.466666666666665\n"
     ]
    }
   ],
   "source": [
    "print('Кол-во выигрышных чисел',len(H1),'\\nВероятное выигрышное число при гипотезе 1: ', \\\n",
    "      max(set(H1),key=H1.count), '\\nСреднее выигрышное число:', np.mean(H1)) \n",
    "#кол-во выигрышных чисел при гипотезе о полном рандомном распределении"
   ]
  },
  {
   "cell_type": "code",
   "execution_count": 204,
   "id": "c8f8c033-ebde-4870-809a-fd489f926b01",
   "metadata": {},
   "outputs": [
    {
     "name": "stdout",
     "output_type": "stream",
     "text": [
      "Кол-во выигрышных чисел 32 \n",
      "Вероятное выигрышное число при гипотезе 2:  32 \n",
      "Среднее выигрышное число: 29.46875\n"
     ]
    }
   ],
   "source": [
    "print('Кол-во выигрышных чисел',len(H2),'\\nВероятное выигрышное число при гипотезе 2: ', \\\n",
    "      max(set(H2),key=H2.count), '\\nСреднее выигрышное число:', np.mean(H2))\n",
    "#кол-во выигрышных чисел при гипотезе о полном рандомном распределении"
   ]
  },
  {
   "cell_type": "code",
   "execution_count": 205,
   "id": "630b237a-a26d-49b2-b543-e5745d57c80c",
   "metadata": {},
   "outputs": [
    {
     "name": "stdout",
     "output_type": "stream",
     "text": [
      "Кол-во выигрышных чисел 13 \n",
      "Вероятное выигрышное число при гипотезе 3:  15 \n",
      "Среднее выигрышное число: 13.846153846153847\n"
     ]
    }
   ],
   "source": [
    "print('Кол-во выигрышных чисел',len(H3),'\\nВероятное выигрышное число при гипотезе 3: ', \\\n",
    "      max(set(H3),key=H3.count), '\\nСреднее выигрышное число:', np.mean(H3)) #кол-во выигрышных чисел при гипотезе о полном рандомном распределении"
   ]
  },
  {
   "cell_type": "code",
   "execution_count": 206,
   "id": "67210b95-c17a-4434-962c-c278521a698c",
   "metadata": {},
   "outputs": [
    {
     "name": "stdout",
     "output_type": "stream",
     "text": [
      "Кол-во выигрышных чисел 23 \n",
      "Вероятное выигрышное число при гипотезе 3:  20 \n",
      "Среднее выигрышное число: 20.0\n"
     ]
    }
   ],
   "source": [
    "print('Кол-во выигрышных чисел',len(H4),'\\nВероятное выигрышное число при гипотезе 3: ', \\\n",
    "      max(set(H4),key=H4.count), '\\nСреднее выигрышное число:', np.mean(H4)) #кол-во выигрышных чисел при гипотезе о полном рандомном распределении"
   ]
  },
  {
   "cell_type": "code",
   "execution_count": 207,
   "id": "107a6ebf-52f0-463f-9f9b-ba3d9183171e",
   "metadata": {},
   "outputs": [
    {
     "name": "stdout",
     "output_type": "stream",
     "text": [
      "Кол-во выигрышных чисел 21 \n",
      "Вероятное выигрышное число при гипотезе 3:  13 \n",
      "Среднее выигрышное число: 8.19047619047619\n"
     ]
    }
   ],
   "source": [
    "print('Кол-во выигрышных чисел',len(H5),'\\nВероятное выигрышное число при гипотезе 3: ', \\\n",
    "      max(set(H5),key=H3.count), '\\nСреднее выигрышное число:', np.mean(H5)) #кол-во выигрышных чисел при гипотезе о полном рандомном распределении"
   ]
  },
  {
   "cell_type": "code",
   "execution_count": null,
   "id": "7f26a04f-1408-4bdd-b617-6332348941ec",
   "metadata": {},
   "outputs": [],
   "source": []
  }
 ],
 "metadata": {
  "kernelspec": {
   "display_name": "Python 3 (ipykernel)",
   "language": "python",
   "name": "python3"
  },
  "language_info": {
   "codemirror_mode": {
    "name": "ipython",
    "version": 3
   },
   "file_extension": ".py",
   "mimetype": "text/x-python",
   "name": "python",
   "nbconvert_exporter": "python",
   "pygments_lexer": "ipython3",
   "version": "3.12.10"
  }
 },
 "nbformat": 4,
 "nbformat_minor": 5
}
