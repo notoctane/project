{
 "cells": [
  {
   "cell_type": "code",
   "execution_count": 6,
   "id": "96d99678-0a33-4a63-b033-05580f09038f",
   "metadata": {},
   "outputs": [],
   "source": [
    "import random as rd\n",
    "import numpy as np\n",
    "import matplotlib as plt \n",
    "import time\n",
    "import pandas as pd"
   ]
  },
  {
   "cell_type": "code",
   "execution_count": 424,
   "id": "c971a1e9-d35d-43d6-ae36-c7c1dc415a4d",
   "metadata": {},
   "outputs": [],
   "source": [
    "class resolver:\n",
    "    def __init__(self, teammates, n, k):\n",
    "        self.team = teammates # кол-во людей с тобой в сговоре\n",
    "        self.n = n # кол-во участников \n",
    "        self.n_without_team = n - 1 - self.team # обычные люди\n",
    "        self.k = k # коэффициент деления\n",
    "    def equation(self,team_values):\n",
    "        return np.sum(self.values+team_values)/(self.n*self.k)\n",
    "    # def all_random_values(self):\n",
    "    #     self.values = np.array([rd.randint(1, 100) for _ in range(self.n_without_team)])\n",
    "    # def strat1_random_values(self):\n",
    "    #     n = [self.n_without_team // 2, self.n_without_team-self.n_without_team // 2]\n",
    "    #     self.values = np.array([rd.randint(1, 25) for _ in range(n[1])]+ [rd.randint(75, 100) for _ in range(n[0])])\n",
    "    # def strat2_random_values(self):\n",
    "    #     thoughtless_n = rd.randint(1,5)\n",
    "    #     n = self.n_without_team - thoughtless_n \n",
    "    #     self.values = np.array([rd.randint(1, 12) for _ in range(n)] + [rd.randint(25, 100) for _ in range(thoughtless_n)])\n",
    "    # def strat3_random_values(self):\n",
    "    #     sub_n = rd.randint(0,12)\n",
    "    #     n = [sub_n, self.n_without_team-sub_n]\n",
    "    #     self.values = np.array([rd.randint(1, 25) for _ in range(n[1])]+ [rd.randint(75, 100) for _ in range(n[0])])\n",
    "    # def strat4_random_values(self):\n",
    "    #     self.values = np.array([rd.randint(1, 10) for _ in range(self.n_without_team)])\n",
    "    def best_number_only_for_you(self, strategy='all_random', iterations=100, your_max_number=25):\n",
    "        result = []\n",
    "        best_num = []\n",
    "        rek =[]\n",
    "        for i in range (iterations):\n",
    "            match strategy:\n",
    "                case 'all_random':\n",
    "                    self.values = np.array([rd.randint(1, 100) for _ in range(self.n_without_team)])\n",
    "                case 'strategy1':\n",
    "                    n = [self.n_without_team // 2, self.n_without_team-self.n_without_team // 2]\n",
    "                    self.values = np.array([rd.randint(1, 25) for _ in range(n[1])] +\\\n",
    "                                           [rd.randint(75, 100) for _ in range(n[0])])\n",
    "                case 'strategy2':\n",
    "                    thoughtless_n = rd.randint(1,3)\n",
    "                    n = self.n_without_team - thoughtless_n \n",
    "                    self.values = np.array([rd.randint(1, 12) for _ in range(n)] +\\\n",
    "                                           [rd.randint(25, 100) for _ in range(thoughtless_n)])\n",
    "                case 'strategy3':\n",
    "                    sub_n = rd.randint(0,12)\n",
    "                    n = [sub_n, self.n_without_team-sub_n]\n",
    "                    self.values = np.array([rd.randint(1, 25) for _ in range(n[1])] +\\\n",
    "                                           [rd.randint(75, 100) for _ in range(n[0])])\n",
    "                case 'strategy4':\n",
    "                    self.values = np.array([rd.randint(1, 10) for _ in range(self.n_without_team)])\n",
    "                case _:\n",
    "                    return 'Unknown strategy'\n",
    "            for j in range (1, your_max_number+1):\n",
    "                result.append(self.equation(j))\n",
    "        result = pd.DataFrame(np.array(result).reshape(iterations, your_max_number))\n",
    "        return [j for i in range(iterations) for j in range(1, your_max_number+1) if j == round(result[j-1][i],0)]"
   ]
  },
  {
   "cell_type": "code",
   "execution_count": 428,
   "id": "ce5b36aa-8f5d-4764-90c6-d37da26cb34e",
   "metadata": {},
   "outputs": [
    {
     "name": "stdout",
     "output_type": "stream",
     "text": [
      "5: 0.000125\n",
      "6: 0.001625\n",
      "7: 0.0057083333333333335\n",
      "8: 0.010916666666666667\n",
      "9: 0.012166666666666666\n",
      "10: 0.01125\n",
      "11: 0.0105\n",
      "12: 0.009583333333333333\n",
      "13: 0.008041666666666667\n",
      "14: 0.0060416666666666665\n",
      "15: 0.00275\n",
      "16: 0.0013333333333333333\n",
      "17: 0.0002916666666666667\n"
     ]
    }
   ],
   "source": [
    "test1 = resolver(0,24,2)\n",
    "w = test1.best_number_only_for_you(strategy='strategy2',iterations=1000, your_max_number=25)\n",
    "w.sort()\n",
    "for i in set(w):\n",
    "    print(f'{i}: {w.count(i)/24000}')"
   ]
  },
  {
   "cell_type": "code",
   "execution_count": 412,
   "id": "adbbb368-b134-4792-bdfb-73b90cb9f4d6",
   "metadata": {},
   "outputs": [
    {
     "data": {
      "text/plain": [
       "0.14615384615384616"
      ]
     },
     "execution_count": 412,
     "metadata": {},
     "output_type": "execute_result"
    }
   ],
   "source": [
    "190/1300"
   ]
  },
  {
   "cell_type": "code",
   "execution_count": 426,
   "id": "7f26a04f-1408-4bdd-b617-6332348941ec",
   "metadata": {},
   "outputs": [
    {
     "data": {
      "text/plain": [
       "12.5"
      ]
     },
     "execution_count": 426,
     "metadata": {},
     "output_type": "execute_result"
    }
   ],
   "source": [
    "12.5"
   ]
  },
  {
   "cell_type": "code",
   "execution_count": 15,
   "id": "fd04ca7d-d7b7-4426-ba7a-6b91882a56b4",
   "metadata": {},
   "outputs": [
    {
     "data": {
      "text/plain": [
       "{5, 6, 7, 8, 9, 10, 11, 12, 13, 14, 15, 16, 17, 18, 21}"
      ]
     },
     "execution_count": 15,
     "metadata": {},
     "output_type": "execute_result"
    }
   ],
   "source": [
    "set(H3)"
   ]
  },
  {
   "cell_type": "code",
   "execution_count": null,
   "id": "67abfb94-066a-4108-b00c-d89bae31eea4",
   "metadata": {},
   "outputs": [],
   "source": []
  }
 ],
 "metadata": {
  "kernelspec": {
   "display_name": "Python 3 (ipykernel)",
   "language": "python",
   "name": "python3"
  },
  "language_info": {
   "codemirror_mode": {
    "name": "ipython",
    "version": 3
   },
   "file_extension": ".py",
   "mimetype": "text/x-python",
   "name": "python",
   "nbconvert_exporter": "python",
   "pygments_lexer": "ipython3",
   "version": "3.12.10"
  }
 },
 "nbformat": 4,
 "nbformat_minor": 5
}
