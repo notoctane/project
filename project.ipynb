{
 "cells": [
  {
   "cell_type": "code",
   "execution_count": 244,
   "id": "96d99678-0a33-4a63-b033-05580f09038f",
   "metadata": {},
   "outputs": [],
   "source": [
    "import random as rd\n",
    "import numpy as np\n",
    "import matplotlib as plt \n",
    "import time\n",
    "import pandas as pd\n",
    "import IPython"
   ]
  },
  {
   "cell_type": "code",
   "execution_count": 605,
   "id": "0cdec5a3-c05d-4f8a-b53b-385b61dd8877",
   "metadata": {},
   "outputs": [],
   "source": [
    "class resolver:\n",
    "    def __init__(self, teammates, n, k):\n",
    "        self.team = teammates # кол-во людей с тобой в сговоре \n",
    "        self.n = n # кол-во участников \n",
    "        self.n_without_team = n - 1 - self.team # обычные люди\n",
    "        self.k = k # коэффициент деления\n",
    "        self.sum_values=[]\n",
    "    def equation(self,team_values):\n",
    "        return np.sum((np.append(self.value,team_values))/(self.n*self.k))\n",
    "    def exact_numbers(self, your_min_number, your_max_number):\n",
    "       return [num for num in range(your_min_number,your_max_number+1) if round(self.equation(num),0) == num]\n",
    "    # def near_numbers(self, your_max_number, values):\n",
    "    #     for num in range(1,your_max_number+1):\n",
    "    #         if round(self.equation(num),0) \n",
    "    \n",
    "    def distance(your_num, win_num):\n",
    "        return your_num - win_num\n",
    "    def best_number(self, strategy='strategy1', iterations=100, your_min_number=1, your_max_number=25):\n",
    "        result = []\n",
    "        match strategy:\n",
    "            case 'all_random':\n",
    "                for iteration in range (iterations):\n",
    "                    self.value = np.array([rd.randint(1, 100) for _ in range(self.n_without_team)])\n",
    "                    result += self.exact_numbers(your_min_number,your_max_number)\n",
    "            case 'strategy1':\n",
    "                for iteration in range (iterations):\n",
    "                    n = [self.n_without_team // 2, self.n_without_team-self.n_without_team // 2]\n",
    "                    self.value = np.array([rd.randint(1, 25) for _ in range(n[1])] +\\\n",
    "                                           [rd.randint(75, 100) for _ in range(n[0])]) \n",
    "                    self.sum_values.append(np.sum(self.value)) # Значение без учета тебя\n",
    "                    result += self.exact_numbers(your_min_number,your_max_number)\n",
    "            case 'strategy2':\n",
    "                for iteration in range (iterations):\n",
    "                    thoughtless_n = rd.randint(1,3)\n",
    "                    n = self.n_without_team - thoughtless_n \n",
    "                    self.value = np.array([rd.randint(1, 12) for _ in range(n)] +\\\n",
    "                                           [rd.randint(25, 100) for _ in range(thoughtless_n)])\n",
    "                    self.sum_values.append(np.sum(self.value)) # Значение без учета тебя\n",
    "                    result += self.exact_numbers(your_min_number,your_max_number)\n",
    "            case 'strategy3':\n",
    "                for iteration in range (iterations):\n",
    "                    sub_n = rd.randint(0,12)\n",
    "                    n = [sub_n, self.n_without_team-sub_n]\n",
    "                    self.value = np.array([rd.randint(1, 25) for _ in range(n[1])] +\\\n",
    "                                           [rd.randint(75, 100) for _ in range(n[0])])\n",
    "                    self.sum_values.append(np.sum(self.value)) # Значение без учета тебя\n",
    "                    result += self.exact_numbers(your_min_number,your_max_number)\n",
    "            case 'strategy4':\n",
    "                for iteration in range(iterations):\n",
    "                    self.value = np.array([rd.randint(3, 15) for _ in range(self.n_without_team)])\n",
    "                    self.sum_values.append(np.sum(self.value)) # Значение без учета тебя\n",
    "                    result += self.exact_numbers(your_min_number,your_max_number)\n",
    "            case 'all_possible_values':\n",
    "                for self.value in range (self.n_without_team, self.n_without_team*100):\n",
    "                    result += self.exact_numbers(your_min_number,your_max_number)\n",
    "                    self.sum_values.append(self.value) # Значение без учета тебя\n",
    "                iterations = self.n\n",
    "            case _:\n",
    "                return 'Unknown strategy'\n",
    "\n",
    "#==========================  Реальная вероятность, однако с ней не очень приятно работать  ==========================\n",
    "        # return {unique_num: (result.count(unique_num))/((self.n-1+your_max_number-your_min_number)*100)\\\n",
    "        #         for unique_num in set(result)}\n",
    "#============================================  Вывод уникальных значений  ============================================\n",
    "        #return {unique_num: (result.count(unique_num)) for unique_num in set(result)}\n",
    "\n",
    "            # Программа подбирает значения с которыми вы МОЖЕТЕ выиграть с условием того,\n",
    "                # что вы предполагаете как поведут себя люди в данной ситуации\n",
    "        \n",
    "#====================================  Вывод вероятности выбора значения из интервала ===================================\n",
    "        return {unique_num: (result.count(unique_num)/len(result)) for unique_num in set(result)}\n"
   ]
  },
  {
   "cell_type": "code",
   "execution_count": 606,
   "id": "07c06fe8-cb92-4648-9a32-699cd74ab306",
   "metadata": {},
   "outputs": [
    {
     "data": {
      "text/plain": [
       "{22: 0.09900990099009901,\n",
       " 23: 0.40594059405940597,\n",
       " 24: 0.3564356435643564,\n",
       " 25: 0.09900990099009901,\n",
       " 26: 0.039603960396039604}"
      ]
     },
     "execution_count": 606,
     "metadata": {},
     "output_type": "execute_result"
    }
   ],
   "source": [
    "test1 = resolver(0,20,2)\n",
    "s = test1.best_number(strategy='strategy1', iterations=100, your_min_number = 1, your_max_number=40)\n",
    "s"
   ]
  },
  {
   "cell_type": "code",
   "execution_count": 607,
   "id": "a6526974-a482-46e2-80b5-614057712baa",
   "metadata": {},
   "outputs": [
    {
     "data": {
      "text/plain": [
       "{4: 0.16666666666666666,\n",
       " 5: 0.2549019607843137,\n",
       " 6: 0.27450980392156865,\n",
       " 7: 0.1568627450980392,\n",
       " 8: 0.0784313725490196,\n",
       " 9: 0.058823529411764705,\n",
       " 10: 0.00980392156862745}"
      ]
     },
     "execution_count": 607,
     "metadata": {},
     "output_type": "execute_result"
    }
   ],
   "source": [
    "test1 = resolver(0,20,2)\n",
    "s = test1.best_number(strategy='strategy2', iterations=100, your_min_number = 1, your_max_number=40)\n",
    "s"
   ]
  },
  {
   "cell_type": "code",
   "execution_count": 608,
   "id": "8097a183-3ee1-4549-a59f-5290e7c7219b",
   "metadata": {},
   "outputs": [
    {
     "data": {
      "text/plain": [
       "{5: 0.018691588785046728,\n",
       " 6: 0.056074766355140186,\n",
       " 7: 0.056074766355140186,\n",
       " 8: 0.018691588785046728,\n",
       " 9: 0.056074766355140186,\n",
       " 10: 0.037383177570093455,\n",
       " 11: 0.056074766355140186,\n",
       " 12: 0.028037383177570093,\n",
       " 13: 0.018691588785046728,\n",
       " 14: 0.028037383177570093,\n",
       " 15: 0.04672897196261682,\n",
       " 16: 0.04672897196261682,\n",
       " 17: 0.037383177570093455,\n",
       " 18: 0.018691588785046728,\n",
       " 19: 0.056074766355140186,\n",
       " 20: 0.028037383177570093,\n",
       " 21: 0.028037383177570093,\n",
       " 22: 0.037383177570093455,\n",
       " 23: 0.037383177570093455,\n",
       " 24: 0.037383177570093455,\n",
       " 25: 0.018691588785046728,\n",
       " 26: 0.06542056074766354,\n",
       " 27: 0.056074766355140186,\n",
       " 28: 0.028037383177570093,\n",
       " 29: 0.056074766355140186,\n",
       " 30: 0.028037383177570093}"
      ]
     },
     "execution_count": 608,
     "metadata": {},
     "output_type": "execute_result"
    }
   ],
   "source": [
    "test1 = resolver(0,20,2)\n",
    "s = test1.best_number(strategy='strategy3', iterations=100, your_min_number = 1, your_max_number=40)\n",
    "s"
   ]
  },
  {
   "cell_type": "code",
   "execution_count": 609,
   "id": "bf89cb98-8837-4b7f-b53d-428e5a10e479",
   "metadata": {},
   "outputs": [
    {
     "data": {
      "text/plain": [
       "{3: 0.02, 4: 0.57, 5: 0.41}"
      ]
     },
     "execution_count": 609,
     "metadata": {},
     "output_type": "execute_result"
    }
   ],
   "source": [
    "test1 = resolver(0,20,2)\n",
    "s = test1.best_number(strategy='strategy4', iterations=100, your_min_number = 1, your_max_number=40)\n",
    "s"
   ]
  },
  {
   "cell_type": "code",
   "execution_count": 611,
   "id": "893b32c7-fba4-4e72-bd93-a8391bf59aea",
   "metadata": {},
   "outputs": [
    {
     "data": {
      "text/plain": [
       "{32: 0.009615384615384616,\n",
       " 18: 0.028846153846153848,\n",
       " 19: 0.038461538461538464,\n",
       " 20: 0.0673076923076923,\n",
       " 21: 0.019230769230769232,\n",
       " 22: 0.09615384615384616,\n",
       " 23: 0.08653846153846154,\n",
       " 24: 0.20192307692307693,\n",
       " 25: 0.125,\n",
       " 26: 0.057692307692307696,\n",
       " 27: 0.09615384615384616,\n",
       " 28: 0.057692307692307696,\n",
       " 29: 0.0673076923076923,\n",
       " 30: 0.019230769230769232,\n",
       " 31: 0.028846153846153848}"
      ]
     },
     "execution_count": 611,
     "metadata": {},
     "output_type": "execute_result"
    }
   ],
   "source": [
    "test1 = resolver(0,20,2)\n",
    "s = test1.best_number(strategy='all_random', iterations=100, your_min_number = 1, your_max_number=40)\n",
    "s"
   ]
  },
  {
   "cell_type": "code",
   "execution_count": 613,
   "id": "8a2220f6-749c-4430-b3fd-c3d28eac2851",
   "metadata": {},
   "outputs": [
    {
     "data": {
      "text/plain": [
       "{1: 0.020228215767634856,\n",
       " 2: 0.021265560165975105,\n",
       " 3: 0.020228215767634856,\n",
       " 4: 0.021265560165975105,\n",
       " 5: 0.020228215767634856,\n",
       " 6: 0.021265560165975105,\n",
       " 7: 0.020228215767634856,\n",
       " 8: 0.021265560165975105,\n",
       " 9: 0.020228215767634856,\n",
       " 10: 0.021265560165975105,\n",
       " 11: 0.020228215767634856,\n",
       " 12: 0.021265560165975105,\n",
       " 13: 0.020228215767634856,\n",
       " 14: 0.021265560165975105,\n",
       " 15: 0.020228215767634856,\n",
       " 16: 0.021265560165975105,\n",
       " 17: 0.020228215767634856,\n",
       " 18: 0.021265560165975105,\n",
       " 19: 0.020228215767634856,\n",
       " 20: 0.021265560165975105,\n",
       " 21: 0.020228215767634856,\n",
       " 22: 0.021265560165975105,\n",
       " 23: 0.020228215767634856,\n",
       " 24: 0.021265560165975105,\n",
       " 25: 0.020228215767634856,\n",
       " 26: 0.021265560165975105,\n",
       " 27: 0.020228215767634856,\n",
       " 28: 0.021265560165975105,\n",
       " 29: 0.020228215767634856,\n",
       " 30: 0.021265560165975105,\n",
       " 31: 0.020228215767634856,\n",
       " 32: 0.021265560165975105,\n",
       " 33: 0.020228215767634856,\n",
       " 34: 0.021265560165975105,\n",
       " 35: 0.020228215767634856,\n",
       " 36: 0.021265560165975105,\n",
       " 37: 0.020228215767634856,\n",
       " 38: 0.021265560165975105,\n",
       " 39: 0.020228215767634856,\n",
       " 40: 0.021265560165975105,\n",
       " 41: 0.020228215767634856,\n",
       " 42: 0.021265560165975105,\n",
       " 43: 0.020228215767634856,\n",
       " 44: 0.021265560165975105,\n",
       " 45: 0.020228215767634856,\n",
       " 46: 0.021265560165975105,\n",
       " 47: 0.020228215767634856,\n",
       " 48: 0.021265560165975105,\n",
       " 49: 0.004149377593360996}"
      ]
     },
     "execution_count": 613,
     "metadata": {},
     "output_type": "execute_result"
    }
   ],
   "source": [
    "test1 = resolver(0,20,2)\n",
    "s = test1.best_number(strategy='all_possible_values', iterations=100, your_min_number = 1, your_max_number=50)\n",
    "s"
   ]
  },
  {
   "cell_type": "code",
   "execution_count": 610,
   "id": "f45a6ac7-9a56-4ff1-9ed2-76d4e9b0e168",
   "metadata": {},
   "outputs": [
    {
     "data": {
      "text/plain": [
       "100"
      ]
     },
     "execution_count": 610,
     "metadata": {},
     "output_type": "execute_result"
    }
   ],
   "source": [
    "len(test1.sum_values)"
   ]
  },
  {
   "cell_type": "markdown",
   "id": "b55ec0e6-7e86-47d0-a09e-0cdc6614d32d",
   "metadata": {},
   "source": [
    "# Проблемы данного кода:\n",
    "\n",
    "1)  В этом коде не учтен вариант, когда мы выигрываем благодаря минимальному расстоянию, в случае с маленьким количеством людей это может повлиять"
   ]
  },
  {
   "cell_type": "code",
   "execution_count": 146,
   "id": "c9d1119b-bb38-4c79-b19c-f1eca14bf92e",
   "metadata": {},
   "outputs": [],
   "source": [
    "class resolver: #Решение если мы хотим сохранить все исх данные\n",
    "    def __init__(self, teammates, n, k):\n",
    "        self.team = teammates # кол-во людей с тобой в сговоре \n",
    "        self.n = n # кол-во участников \n",
    "        self.n_without_team = n - 1 - self.team # обычные люди\n",
    "        self.k = k # коэффициент деления\n",
    "    def equation(self,team_values):\n",
    "        return [np.sum(value+team_values)/(self.n*self.k) for value in self.values]\n",
    "    def best_number_only_for_you(self, strategy='all_random', iterations=100, your_max_number=25):\n",
    "        match strategy:\n",
    "            case 'all_random':\n",
    "                self.values = np.array([[rd.randint(1, 100) for _ in range(self.n_without_team)]\\\n",
    "                                        for _ in range(iterations)])\n",
    "            case 'strategy1':\n",
    "                n = [self.n_without_team // 2, self.n_without_team-self.n_without_team // 2]\n",
    "                self.values = np.array([[rd.randint(1, 25) for _ in range(n[1])] +\\\n",
    "                                       [rd.randint(75, 100) for _ in range(n[0])] for _ in range(iterations)])\n",
    "            case 'strategy2':\n",
    "                thoughtless_n = rd.randint(1,3)\n",
    "                n = self.n_without_team - thoughtless_n \n",
    "                self.values = np.array([[rd.randint(1, 12) for _ in range(n)] +\\\n",
    "                                       [rd.randint(25, 100) for _ in range(thoughtless_n)] for _ in range(iterations)])\n",
    "            case 'strategy3':\n",
    "                sub_n = rd.randint(0,12)\n",
    "                n = [sub_n, self.n_without_team-sub_n]\n",
    "                self.values = np.array([[rd.randint(1, 25) for _ in range(n[1])] +\\\n",
    "                                       [rd.randint(75, 100) for _ in range(n[0])] for _ in range(iterations)])\n",
    "            case 'strategy4':\n",
    "                self.values = np.array([[rd.randint(2, 10) for _ in range(self.n_without_team)]\\\n",
    "                                        for _ in range(iterations)])\n",
    "            case _:\n",
    "                return 'Unknown strategy'\n",
    "        return [your_num for your_num in range(1, your_max_number+1)\\\n",
    "                           \\ for iteration in range(iterations) if round(self.equation(your_num)[iteration],0) == your_num]"
   ]
  },
  {
   "cell_type": "code",
   "execution_count": null,
   "id": "d3194f53-6fe7-4192-a2e0-3b6a2b0f72e9",
   "metadata": {},
   "outputs": [],
   "source": []
  }
 ],
 "metadata": {
  "kernelspec": {
   "display_name": "Python 3 (ipykernel)",
   "language": "python",
   "name": "python3"
  },
  "language_info": {
   "codemirror_mode": {
    "name": "ipython",
    "version": 3
   },
   "file_extension": ".py",
   "mimetype": "text/x-python",
   "name": "python",
   "nbconvert_exporter": "python",
   "pygments_lexer": "ipython3",
   "version": "3.12.10"
  }
 },
 "nbformat": 4,
 "nbformat_minor": 5
}
