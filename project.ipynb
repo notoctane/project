{
 "cells": [
  {
   "cell_type": "code",
   "execution_count": 66,
   "id": "96d99678-0a33-4a63-b033-05580f09038f",
   "metadata": {},
   "outputs": [],
   "source": [
    "import random as rd\n",
    "import numpy as np\n",
    "import matplotlib as plt"
   ]
  },
  {
   "cell_type": "code",
   "execution_count": 81,
   "id": "cac7e7ae-1486-4044-83d6-b642f9d431f7",
   "metadata": {},
   "outputs": [
    {
     "name": "stdout",
     "output_type": "stream",
     "text": [
      "32.2\n",
      "30.62\n",
      "14.18\n",
      "12.48\n"
     ]
    }
   ],
   "source": [
    "class resolver:\n",
    "    def __init__(self, teammates, n, k):\n",
    "        self.team = teammates # кол-во людей с тобой в сговоре\n",
    "        self.n = n # кол-во участников \n",
    "        self.n_without_team = n - 1 - self.team # обычные люди\n",
    "        self.k = k # коэффициент деления\n",
    "    def all_random_values(self):\n",
    "        self.values = np.array([rd.randint(1, 100) for _ in range(self.n_without_team)])\n",
    "    def strat1_random_values(self):\n",
    "        n = [self.n_without_team // 2, self.n_without_team-self.n_without_team // 2]\n",
    "        self.values = np.array([rd.randint(1, 25) for _ in range(n[1])]+ [rd.randint(75, 100) for _ in range(n[0])])\n",
    "    def strat2_random_values(self):\n",
    "        thoughtless_n = rd.randint(1,5)\n",
    "        n = self.n_without_team - thoughtless_n \n",
    "        self.values = np.array([rd.randint(1, 12) for _ in range(n)] + [rd.randint(25, 100) for _ in range(thoughtless_n)])\n",
    "    def strat3_random_values(self):\n",
    "        sub_n = rd.randint(0,12)\n",
    "        n = [sub_n, self.n_without_team-sub_n]\n",
    "        self.values = np.array([rd.randint(1, 25) for _ in range(n[1])]+ [rd.randint(75, 100) for _ in range(n[0])])\n",
    "    def equation(self,team_values):\n",
    "        return np.sum(self.values+team_values)/(self.n*self.k)\n",
    "test1 = resolver(0,25,2)\n",
    "test1.all_random_values()\n",
    "print(test1.equation(12))\n",
    "test1.strat1_random_values()\n",
    "print(test1.equation(12))\n",
    "test1.strat2_random_values()\n",
    "print(test1.equation(12))\n",
    "test1.strat3_random_values()\n",
    "print(test1.equation(12))"
   ]
  },
  {
   "cell_type": "code",
   "execution_count": 69,
   "id": "92bc0853-3967-4f8b-acd7-b5a89a812a99",
   "metadata": {},
   "outputs": [],
   "source": [
    "#tests\n",
    "all_random_tests = []"
   ]
  },
  {
   "cell_type": "code",
   "execution_count": 12,
   "id": "876aa66e-edb0-4f16-8a6e-86d6ff3a908f",
   "metadata": {},
   "outputs": [
    {
     "data": {
      "text/plain": [
       "12"
      ]
     },
     "execution_count": 12,
     "metadata": {},
     "output_type": "execute_result"
    }
   ],
   "source": []
  },
  {
   "cell_type": "code",
   "execution_count": null,
   "id": "8ccb7a9c-7f76-4e51-b690-fd90d347b344",
   "metadata": {},
   "outputs": [],
   "source": []
  }
 ],
 "metadata": {
  "kernelspec": {
   "display_name": "Python 3 (ipykernel)",
   "language": "python",
   "name": "python3"
  },
  "language_info": {
   "codemirror_mode": {
    "name": "ipython",
    "version": 3
   },
   "file_extension": ".py",
   "mimetype": "text/x-python",
   "name": "python",
   "nbconvert_exporter": "python",
   "pygments_lexer": "ipython3",
   "version": "3.12.10"
  }
 },
 "nbformat": 4,
 "nbformat_minor": 5
}
